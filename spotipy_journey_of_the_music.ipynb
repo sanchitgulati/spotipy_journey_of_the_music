{
  "nbformat": 4,
  "nbformat_minor": 0,
  "metadata": {
    "colab": {
      "provenance": [],
      "include_colab_link": true
    },
    "kernelspec": {
      "name": "python3",
      "display_name": "Python 3"
    },
    "language_info": {
      "name": "python"
    }
  },
  "cells": [
    {
      "cell_type": "markdown",
      "metadata": {
        "id": "view-in-github",
        "colab_type": "text"
      },
      "source": [
        "<a href=\"https://colab.research.google.com/github/sanchitgulati/spotipy_journey_of_the_music/blob/main/spotipy_journey_of_the_music.ipynb\" target=\"_parent\"><img src=\"https://colab.research.google.com/assets/colab-badge.svg\" alt=\"Open In Colab\"/></a>"
      ]
    },
    {
      "cell_type": "markdown",
      "source": [
        "# Installation"
      ],
      "metadata": {
        "id": "ZtIccof9vnR2"
      }
    },
    {
      "cell_type": "code",
      "execution_count": 104,
      "metadata": {
        "id": "zDA1QZefZAmy"
      },
      "outputs": [],
      "source": [
        "import pip\n",
        "\n",
        "def install(package):\n",
        "    if hasattr(pip, 'main'):\n",
        "        pip.main(['install', package])\n",
        "    else:\n",
        "        pip._internal.main(['install', package])\n",
        "\n"
      ]
    },
    {
      "cell_type": "code",
      "source": [
        "# %%capture captures the cell output, so need less things don't populate the cell \n",
        "%%capture\n",
        "install('spotipy')"
      ],
      "metadata": {
        "id": "ErLWF3vN8G8F"
      },
      "execution_count": 105,
      "outputs": []
    },
    {
      "cell_type": "code",
      "source": [
        "%%capture\n",
        "install('panda')"
      ],
      "metadata": {
        "id": "vtDT7rIB8oNr"
      },
      "execution_count": 106,
      "outputs": []
    },
    {
      "cell_type": "code",
      "source": [
        "%%capture\n",
        "install('sklearn')"
      ],
      "metadata": {
        "id": "sv2wDZ3r9_vf"
      },
      "execution_count": 107,
      "outputs": []
    },
    {
      "cell_type": "code",
      "source": [
        "%%capture\n",
        "install('matplotlib')"
      ],
      "metadata": {
        "id": "5dpfypbz9jo3"
      },
      "execution_count": 108,
      "outputs": []
    },
    {
      "cell_type": "code",
      "source": [
        "%%capture\n",
        "install('seaborn')"
      ],
      "metadata": {
        "id": "9frf7TyK9ujI"
      },
      "execution_count": 109,
      "outputs": []
    },
    {
      "cell_type": "code",
      "source": [
        "from google.colab import drive\n",
        "drive.mount('/content/drive')"
      ],
      "metadata": {
        "colab": {
          "base_uri": "https://localhost:8080/"
        },
        "id": "V8EMGNet9T3k",
        "outputId": "ab9d166f-a126-4ba3-eba4-5e754c31c8e2"
      },
      "execution_count": 110,
      "outputs": [
        {
          "output_type": "stream",
          "name": "stdout",
          "text": [
            "Drive already mounted at /content/drive; to attempt to forcibly remount, call drive.mount(\"/content/drive\", force_remount=True).\n"
          ]
        }
      ]
    },
    {
      "cell_type": "markdown",
      "source": [
        "# Imports"
      ],
      "metadata": {
        "id": "eUivPh-r9W35"
      }
    },
    {
      "cell_type": "code",
      "source": [
        "import pandas as pd\n",
        "import datetime\n",
        "import time"
      ],
      "metadata": {
        "id": "rYT2Noes9U0P"
      },
      "execution_count": 111,
      "outputs": []
    },
    {
      "cell_type": "markdown",
      "source": [
        "# Secret Key"
      ],
      "metadata": {
        "id": "C-KpX41avsg_"
      }
    },
    {
      "cell_type": "code",
      "source": [
        "secrets = {'CLIENT_ID': \"<CLIENT-ID-HERE>\",'CLIENT_SECRET':\"<CLIENT-SECRET-HERE>\"}"
      ],
      "metadata": {
        "id": "gdiag5ZBcoe8"
      },
      "execution_count": 112,
      "outputs": []
    },
    {
      "cell_type": "code",
      "source": [
        "# Used once to store your APP secrets\n",
        "\n",
        "# import pickle\n",
        "# with open('secrets.dictionary', 'wb') as secret_dictionary_file:\n",
        "#   pickle.dump(secrets, secret_dictionary_file)\n",
        "# !cp 'secrets.dictionary' \"drive/My Drive/spotipy/secrets.dictionary\" "
      ],
      "metadata": {
        "id": "cf2AfXfBdLJy"
      },
      "execution_count": 113,
      "outputs": []
    },
    {
      "cell_type": "code",
      "source": [
        "import pickle\n",
        "!cp \"drive/My Drive/spotipy/secrets.dictionary\" 'secrets.dictionary' \n",
        "with open('secrets.dictionary', 'rb') as secret_dictionary_file:\n",
        "    secrets = pickle.load(secret_dictionary_file)"
      ],
      "metadata": {
        "id": "L3ZFQjnDdUAi"
      },
      "execution_count": 114,
      "outputs": []
    },
    {
      "cell_type": "markdown",
      "source": [
        "# Imports"
      ],
      "metadata": {
        "id": "0cTyiFFbvwHA"
      }
    },
    {
      "cell_type": "code",
      "source": [
        "import spotipy\n",
        "from spotipy.oauth2 import SpotifyClientCredentials\n",
        "client_credentials_manager = SpotifyClientCredentials(client_id=secrets['CLIENT_ID'], client_secret=secrets['CLIENT_SECRET'])\n",
        "sp = spotipy.Spotify(client_credentials_manager=client_credentials_manager)"
      ],
      "metadata": {
        "id": "OGKLIlqW8MBd"
      },
      "execution_count": 115,
      "outputs": []
    },
    {
      "cell_type": "markdown",
      "source": [
        "# Functions"
      ],
      "metadata": {
        "id": "M8s_czj0YPXZ"
      }
    },
    {
      "cell_type": "code",
      "source": [
        "def GetNewResults(market,popularity = 70):\n",
        "  data = []\n",
        "  # Fetches only the top? 50 albums, as limited by the API for single call\n",
        "  album_results = sp.search(q='tag:new', market=market,type='album', limit=50)\n",
        "  for i, a_overview in enumerate(album_results['albums']['items']):\n",
        "    a = GetAlbumResults(a_overview['id'])\n",
        "    if a[-1] > popularity: # only extremely popular albums, defaults to 70\n",
        "      data.append(a)\n",
        "  return data      "
      ],
      "metadata": {
        "id": "1Zn82GeO3Ml3"
      },
      "execution_count": 116,
      "outputs": []
    },
    {
      "cell_type": "code",
      "source": [
        "def GetAlbumResults(album_id):\n",
        "  a = sp.album(album_id)\n",
        "  date_object = datetime.datetime.strptime(a['release_date'], '%Y-%m-%d').date()\n",
        "  td = datetime.date.today() - date_object\n",
        "  return [a['id'],a['name'],a['images'][1]['url'],a['release_date'],td.days,a['popularity']] "
      ],
      "metadata": {
        "id": "398C9YWogjLQ"
      },
      "execution_count": 117,
      "outputs": []
    },
    {
      "cell_type": "markdown",
      "source": [
        "# Main"
      ],
      "metadata": {
        "id": "qQO44fOQvzEQ"
      }
    },
    {
      "cell_type": "code",
      "source": [
        "# all_market_codes = sp.available_markets()\n",
        "all_market_codes = {\"markets\":['IN','US','PK','BR','MX','JP','NL','FR','DE','FR']}\n",
        "# all_market_codes = {\"markets\":['US']}"
      ],
      "metadata": {
        "id": "hykaW27MxoFk"
      },
      "execution_count": 118,
      "outputs": []
    },
    {
      "cell_type": "code",
      "source": [
        "!cp \"drive/My Drive/spotipy/data.csv\" data.csv\n",
        "df = pd.read_csv('data.csv')"
      ],
      "metadata": {
        "id": "SeuICWfW7K69"
      },
      "execution_count": 119,
      "outputs": []
    },
    {
      "cell_type": "code",
      "source": [
        "data = []\n",
        "\n",
        "unique_albums = df.id.unique()\n",
        "for album_id in unique_albums:\n",
        "  data.append(GetAlbumResults(album_id))\n",
        "\n",
        "\n",
        "for market in all_market_codes['markets']:    \n",
        "  d = GetNewResults(market)\n",
        "  data.extend(d)\n",
        "\n",
        "\n",
        "df = pd.DataFrame(data,columns=['id','name','image','release_date','days_since_release','popularity'])\n",
        "df = df.drop_duplicates(subset=['id','days_since_release'])"
      ],
      "metadata": {
        "id": "-KQY6orfDFD-"
      },
      "execution_count": 120,
      "outputs": []
    },
    {
      "cell_type": "code",
      "source": [
        "df.to_csv('data.csv')\n",
        "!cp data.csv \"drive/My Drive/spotipy/\""
      ],
      "metadata": {
        "id": "mT34Wpcz9P-X"
      },
      "execution_count": 121,
      "outputs": []
    },
    {
      "cell_type": "markdown",
      "source": [
        "# Future\n",
        "## Analysis of collected data, need atleast 3 months of data\n",
        "### Will CRON job the code above privately"
      ],
      "metadata": {
        "id": "7THI9NVgfqTc"
      }
    },
    {
      "cell_type": "code",
      "source": [
        "## Retreive File(s) from Google drive"
      ],
      "metadata": {
        "id": "t6rBVaPaM8Ui"
      },
      "execution_count": 122,
      "outputs": []
    },
    {
      "cell_type": "code",
      "source": [
        "# !cp \"drive/My Drive/spotipy/<file-name>.csv\" data.csv "
      ],
      "metadata": {
        "id": "BPwsU2-UM_D4"
      },
      "execution_count": 123,
      "outputs": []
    },
    {
      "cell_type": "code",
      "source": [
        "# df = pd.read_csv('<file-name>.csv')"
      ],
      "metadata": {
        "id": "fkBlxL_4NDQv"
      },
      "execution_count": 124,
      "outputs": []
    },
    {
      "cell_type": "markdown",
      "source": [
        "# ScratchPad"
      ],
      "metadata": {
        "id": "fHcOkSCOhQgX"
      }
    },
    {
      "cell_type": "code",
      "source": [
        "GetNewResults('IN')"
      ],
      "metadata": {
        "colab": {
          "base_uri": "https://localhost:8080/"
        },
        "id": "w4C3Otq9ibMi",
        "outputId": "48169fcd-9ced-4329-c021-4512465a9e9a"
      },
      "execution_count": 125,
      "outputs": [
        {
          "output_type": "execute_result",
          "data": {
            "text/plain": [
              "[['0gr5OmB74UhoANEXwYT3gE',\n",
              "  'Dreamers [Music from the FIFA World Cup Qatar 2022 Official Soundtrack]',\n",
              "  'https://i.scdn.co/image/ab67616d00001e02ef57183066d6cac0cabb85c6',\n",
              "  '2022-11-20',\n",
              "  10,\n",
              "  79]]"
            ]
          },
          "metadata": {},
          "execution_count": 125
        }
      ]
    },
    {
      "cell_type": "code",
      "source": [
        "GetAlbumResults('1y0Yts8U11AdgMgl4tPDII')"
      ],
      "metadata": {
        "colab": {
          "base_uri": "https://localhost:8080/"
        },
        "id": "fizYO0sIhTnU",
        "outputId": "e00127c0-9c9a-401b-eddd-2fae28b595bc"
      },
      "execution_count": 126,
      "outputs": [
        {
          "output_type": "execute_result",
          "data": {
            "text/plain": [
              "['1y0Yts8U11AdgMgl4tPDII',\n",
              " 'Autobahn',\n",
              " 'https://i.scdn.co/image/ab67616d00001e02f123e039f29e747ae01e99a1',\n",
              " '2022-11-18',\n",
              " 12,\n",
              " 74]"
            ]
          },
          "metadata": {},
          "execution_count": 126
        }
      ]
    }
  ]
}