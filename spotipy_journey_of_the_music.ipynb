{
  "nbformat": 4,
  "nbformat_minor": 0,
  "metadata": {
    "colab": {
      "provenance": [],
      "include_colab_link": true
    },
    "kernelspec": {
      "name": "python3",
      "display_name": "Python 3"
    },
    "language_info": {
      "name": "python"
    }
  },
  "cells": [
    {
      "cell_type": "markdown",
      "metadata": {
        "id": "view-in-github",
        "colab_type": "text"
      },
      "source": [
        "<a href=\"https://colab.research.google.com/github/sanchitgulati/spotipy_journey_of_the_music/blob/main/spotipy_journey_of_the_music.ipynb\" target=\"_parent\"><img src=\"https://colab.research.google.com/assets/colab-badge.svg\" alt=\"Open In Colab\"/></a>"
      ]
    },
    {
      "cell_type": "markdown",
      "source": [
        "# Installation"
      ],
      "metadata": {
        "id": "ZtIccof9vnR2"
      }
    },
    {
      "cell_type": "code",
      "execution_count": 1,
      "metadata": {
        "id": "zDA1QZefZAmy"
      },
      "outputs": [],
      "source": [
        "import pip\n",
        "\n",
        "def install(package):\n",
        "    if hasattr(pip, 'main'):\n",
        "        pip.main(['install', package])\n",
        "    else:\n",
        "        pip._internal.main(['install', package])\n",
        "\n"
      ]
    },
    {
      "cell_type": "code",
      "source": [
        "# %%capture captures the cell output, so need less things don't populate the cell \n",
        "%%capture\n",
        "install('spotipy')"
      ],
      "metadata": {
        "id": "ErLWF3vN8G8F"
      },
      "execution_count": 2,
      "outputs": []
    },
    {
      "cell_type": "code",
      "source": [
        "%%capture\n",
        "install('panda')"
      ],
      "metadata": {
        "id": "vtDT7rIB8oNr"
      },
      "execution_count": 3,
      "outputs": []
    },
    {
      "cell_type": "code",
      "source": [
        "%%capture\n",
        "install('sklearn')"
      ],
      "metadata": {
        "id": "sv2wDZ3r9_vf"
      },
      "execution_count": 4,
      "outputs": []
    },
    {
      "cell_type": "code",
      "source": [
        "%%capture\n",
        "install('matplotlib')"
      ],
      "metadata": {
        "id": "5dpfypbz9jo3"
      },
      "execution_count": 5,
      "outputs": []
    },
    {
      "cell_type": "code",
      "source": [
        "%%capture\n",
        "install('seaborn')"
      ],
      "metadata": {
        "id": "9frf7TyK9ujI"
      },
      "execution_count": 6,
      "outputs": []
    },
    {
      "cell_type": "code",
      "source": [
        "from google.colab import drive\n",
        "drive.mount('/content/drive')"
      ],
      "metadata": {
        "colab": {
          "base_uri": "https://localhost:8080/"
        },
        "id": "V8EMGNet9T3k",
        "outputId": "6408f551-f6d9-45cc-e382-67d569ab7ede"
      },
      "execution_count": 7,
      "outputs": [
        {
          "output_type": "stream",
          "name": "stdout",
          "text": [
            "Mounted at /content/drive\n"
          ]
        }
      ]
    },
    {
      "cell_type": "markdown",
      "source": [
        "# Imports"
      ],
      "metadata": {
        "id": "eUivPh-r9W35"
      }
    },
    {
      "cell_type": "code",
      "source": [
        "import pandas as pd\n",
        "import datetime\n",
        "import time"
      ],
      "metadata": {
        "id": "rYT2Noes9U0P"
      },
      "execution_count": 8,
      "outputs": []
    },
    {
      "cell_type": "markdown",
      "source": [
        "# Secret Key"
      ],
      "metadata": {
        "id": "C-KpX41avsg_"
      }
    },
    {
      "cell_type": "code",
      "source": [
        "secrets = {'CLIENT_ID': \"<CLIENT-ID-HERE>\",'CLIENT_SECRET':\"<CLIENT-SECRET-HERE>\"}"
      ],
      "metadata": {
        "id": "gdiag5ZBcoe8"
      },
      "execution_count": 9,
      "outputs": []
    },
    {
      "cell_type": "code",
      "source": [
        "# Used once to store your APP secrets\n",
        "\n",
        "# import pickle\n",
        "# with open('secrets.dictionary', 'wb') as secret_dictionary_file:\n",
        "#   pickle.dump(secrets, secret_dictionary_file)\n",
        "# !cp 'secrets.dictionary' \"drive/My Drive/spotipy/secrets.dictionary\" "
      ],
      "metadata": {
        "id": "cf2AfXfBdLJy"
      },
      "execution_count": 10,
      "outputs": []
    },
    {
      "cell_type": "code",
      "source": [
        "import pickle\n",
        "!cp \"drive/My Drive/spotipy/secrets.dictionary\" 'secrets.dictionary' \n",
        "with open('secrets.dictionary', 'rb') as secret_dictionary_file:\n",
        "    secrets = pickle.load(secret_dictionary_file)"
      ],
      "metadata": {
        "id": "L3ZFQjnDdUAi"
      },
      "execution_count": 11,
      "outputs": []
    },
    {
      "cell_type": "markdown",
      "source": [
        "# Imports"
      ],
      "metadata": {
        "id": "0cTyiFFbvwHA"
      }
    },
    {
      "cell_type": "code",
      "source": [
        "import spotipy\n",
        "from spotipy.oauth2 import SpotifyClientCredentials\n",
        "client_credentials_manager = SpotifyClientCredentials(client_id=secrets['CLIENT_ID'], client_secret=secrets['CLIENT_SECRET'])\n",
        "sp = spotipy.Spotify(client_credentials_manager=client_credentials_manager)"
      ],
      "metadata": {
        "id": "OGKLIlqW8MBd"
      },
      "execution_count": 12,
      "outputs": []
    },
    {
      "cell_type": "markdown",
      "source": [
        "# Functions"
      ],
      "metadata": {
        "id": "M8s_czj0YPXZ"
      }
    },
    {
      "cell_type": "code",
      "source": [
        "def GetNewResults(market,popularity = 70):\n",
        "  data = []\n",
        "  # Fetches only the top? 50 albums, as limited by the API for single call\n",
        "  album_results = sp.search(q='tag:new', market=market,type='album', limit=50)\n",
        "  for i, a_overview in enumerate(album_results['albums']['items']):\n",
        "    a = GetAlbumResults(a_overview['id'])\n",
        "    if a[-1] > popularity: # only extremely popular albums, defaults to 70\n",
        "      data.append(a)\n",
        "  return data      "
      ],
      "metadata": {
        "id": "1Zn82GeO3Ml3"
      },
      "execution_count": 13,
      "outputs": []
    },
    {
      "cell_type": "code",
      "source": [
        "def GetAlbumResults(album_id):\n",
        "  a = sp.album(album_id)\n",
        "  date_object = datetime.datetime.strptime(a['release_date'], '%Y-%m-%d').date()\n",
        "  td = datetime.date.today() - date_object\n",
        "  return [a['id'],a['name'],a['images'][1]['url'],a['release_date'],td.days,a['popularity']] "
      ],
      "metadata": {
        "id": "398C9YWogjLQ"
      },
      "execution_count": 14,
      "outputs": []
    },
    {
      "cell_type": "markdown",
      "source": [
        "# Main"
      ],
      "metadata": {
        "id": "qQO44fOQvzEQ"
      }
    },
    {
      "cell_type": "code",
      "source": [
        "# all_market_codes = sp.available_markets()\n",
        "all_market_codes = {\"markets\":['IN','US','PK','BR','MX','JP','NL','FR','DE','FR']}\n",
        "# all_market_codes = {\"markets\":['US']}"
      ],
      "metadata": {
        "id": "hykaW27MxoFk"
      },
      "execution_count": 15,
      "outputs": []
    },
    {
      "cell_type": "code",
      "source": [
        "!cp \"drive/My Drive/spotipy/data.csv\" data.csv\n",
        "df = pd.read_csv('data.csv')"
      ],
      "metadata": {
        "id": "SeuICWfW7K69"
      },
      "execution_count": 16,
      "outputs": []
    },
    {
      "cell_type": "code",
      "source": [
        "df.head()"
      ],
      "metadata": {
        "colab": {
          "base_uri": "https://localhost:8080/",
          "height": 881
        },
        "id": "yRQl4PchieRd",
        "outputId": "bb0a4a66-abbb-42d4-d482-e522700d9c0b"
      },
      "execution_count": 17,
      "outputs": [
        {
          "output_type": "execute_result",
          "data": {
            "text/plain": [
              "    Unnamed: 0                      id  \\\n",
              "0            0  2ZiBfBw770CJC0f4SI1Tji   \n",
              "1            1  3lsdB3dY4odywNI42KV6D9   \n",
              "2            2  3SxiMoJROq0kvfbQtd75xp   \n",
              "3            3  6J0q4a7WkkI6OvlZC4rLpi   \n",
              "4            4  0gr5OmB74UhoANEXwYT3gE   \n",
              "5            5  0YlJpX1XiE8ghnRJCU0Dwv   \n",
              "6            6  1QUr29IDxeCaCpZOqwyvHW   \n",
              "7            7  0kfy23QZO9KebgwxJvXzJI   \n",
              "8            8  202T8cUT1c3oQarCOJBy6m   \n",
              "9            9  2SWwDDBZG7UfECbPWQ2t4h   \n",
              "10          10  1y0Yts8U11AdgMgl4tPDII   \n",
              "11          11  08HCdXZVN72S2vpIT9DKhU   \n",
              "12          12  4gR3h0hcpE1iJH0v5bVv78   \n",
              "13          13  2AvuFDqTlnxvYhyVaLU6NY   \n",
              "14          14  6JUTj8yO1favP3Qfma0G3f   \n",
              "15          15  5feRs2ejrMcxuM5hcDDSBb   \n",
              "16          17  7wUbINCiBbmMPH50g1bg3I   \n",
              "17          20  31L7J7AO993tSBxAunoeoa   \n",
              "18          22  6LOhj1aK7vkGHJXtKU16PN   \n",
              "19          23  6DJslQtfD7mGFGZpfiyrVf   \n",
              "20          27  3pQgpHGzZu1MaylCk7B99D   \n",
              "21          28  0iyHGIt1eRyFmH9ZLORpdY   \n",
              "22          29  5aQFjsRw6rieK5oDNgGRyB   \n",
              "23          32  7txGsnDSqVMoRl6RQ9XyZP   \n",
              "\n",
              "                                                 name  \\\n",
              "0                                Feed Tha Streets III   \n",
              "1                                    SEN2 KBRN VOL. 2   \n",
              "2                                     Down In Atlanta   \n",
              "3                                         CONTINGENTE   \n",
              "4   Dreamers [Music from the FIFA World Cup Qatar ...   \n",
              "5                                              Sonder   \n",
              "6                  Duki: Bzrp Music Sessions, Vol. 50   \n",
              "7                                     IO NON HO PAURA   \n",
              "8                                       Milano Demons   \n",
              "9                                    Back To The Game   \n",
              "10                                           Autobahn   \n",
              "11                                             Indigo   \n",
              "12                                  HEROES & VILLAINS   \n",
              "13                                         SR. SANTOS   \n",
              "14                                Welcome To My World   \n",
              "15                                This Is What I Mean   \n",
              "16                         Manual de Como Amar Errado   \n",
              "17                                              SIXDO   \n",
              "18                                           La Jumpa   \n",
              "19                                              LLNM2   \n",
              "20                                       Liens du 100   \n",
              "21                                    Légende Vivante   \n",
              "22                                  HEROES & VILLAINS   \n",
              "23                                  HEROES & VILLAINS   \n",
              "\n",
              "                                                image release_date  \\\n",
              "0   https://i.scdn.co/image/ab67616d00001e02d513f3...   2022-11-18   \n",
              "1   https://i.scdn.co/image/ab67616d00001e02dce7a3...   2022-11-18   \n",
              "2   https://i.scdn.co/image/ab67616d00001e029c3bd1...   2022-11-18   \n",
              "3   https://i.scdn.co/image/ab67616d00001e02b9ae53...   2022-11-23   \n",
              "4   https://i.scdn.co/image/ab67616d00001e02ef5718...   2022-11-20   \n",
              "5   https://i.scdn.co/image/ab67616d00001e02cc887b...   2022-11-18   \n",
              "6   https://i.scdn.co/image/ab67616d00001e0293c4ee...   2022-11-16   \n",
              "7   https://i.scdn.co/image/ab67616d00001e02cc05a9...   2022-11-18   \n",
              "8   https://i.scdn.co/image/ab67616d00001e02c7e356...   2022-11-25   \n",
              "9   https://i.scdn.co/image/ab67616d00001e027d43a8...   2022-11-23   \n",
              "10  https://i.scdn.co/image/ab67616d00001e02f123e0...   2022-11-18   \n",
              "11  https://i.scdn.co/image/ab67616d00001e02366619...   2022-12-02   \n",
              "12  https://i.scdn.co/image/ab67616d00001e02cdce39...   2022-12-02   \n",
              "13  https://i.scdn.co/image/ab67616d00001e0230326b...   2022-12-01   \n",
              "14  https://i.scdn.co/image/ab67616d00001e02f76b76...   2022-11-23   \n",
              "15  https://i.scdn.co/image/ab67616d00001e02df075b...   2022-11-25   \n",
              "16  https://i.scdn.co/image/ab67616d00001e0289b79f...   2022-11-29   \n",
              "17  https://i.scdn.co/image/ab67616d00001e027cc7b0...   2022-12-02   \n",
              "18  https://i.scdn.co/image/ab67616d00001e021e0950...   2022-11-30   \n",
              "19  https://i.scdn.co/image/ab67616d00001e02a726ed...   2022-12-09   \n",
              "20  https://i.scdn.co/image/ab67616d00001e029b7921...   2022-12-01   \n",
              "21  https://i.scdn.co/image/ab67616d00001e027dfb2c...   2022-12-02   \n",
              "22  https://i.scdn.co/image/ab67616d00001e02c91ab2...   2022-12-02   \n",
              "23  https://i.scdn.co/image/ab67616d00001e0213e54d...   2022-12-02   \n",
              "\n",
              "    days_since_release  popularity  \n",
              "0                   24          72  \n",
              "1                   24          80  \n",
              "2                   24          72  \n",
              "3                   19          76  \n",
              "4                   22          81  \n",
              "5                   24          74  \n",
              "6                   26          77  \n",
              "7                   24          75  \n",
              "8                   17          80  \n",
              "9                   19          75  \n",
              "10                  24          75  \n",
              "11                  10          85  \n",
              "12                  10          85  \n",
              "13                  11          78  \n",
              "14                  19          73  \n",
              "15                  17          72  \n",
              "16                  13          73  \n",
              "17                  10          74  \n",
              "18                  12          76  \n",
              "19                   3          74  \n",
              "20                  11          72  \n",
              "21                  10          71  \n",
              "22                  10          77  \n",
              "23                  10          87  "
            ],
            "text/html": [
              "\n",
              "  <div id=\"df-1d591989-4830-4482-97e7-af250221aeb4\">\n",
              "    <div class=\"colab-df-container\">\n",
              "      <div>\n",
              "<style scoped>\n",
              "    .dataframe tbody tr th:only-of-type {\n",
              "        vertical-align: middle;\n",
              "    }\n",
              "\n",
              "    .dataframe tbody tr th {\n",
              "        vertical-align: top;\n",
              "    }\n",
              "\n",
              "    .dataframe thead th {\n",
              "        text-align: right;\n",
              "    }\n",
              "</style>\n",
              "<table border=\"1\" class=\"dataframe\">\n",
              "  <thead>\n",
              "    <tr style=\"text-align: right;\">\n",
              "      <th></th>\n",
              "      <th>Unnamed: 0</th>\n",
              "      <th>id</th>\n",
              "      <th>name</th>\n",
              "      <th>image</th>\n",
              "      <th>release_date</th>\n",
              "      <th>days_since_release</th>\n",
              "      <th>popularity</th>\n",
              "    </tr>\n",
              "  </thead>\n",
              "  <tbody>\n",
              "    <tr>\n",
              "      <th>0</th>\n",
              "      <td>0</td>\n",
              "      <td>2ZiBfBw770CJC0f4SI1Tji</td>\n",
              "      <td>Feed Tha Streets III</td>\n",
              "      <td>https://i.scdn.co/image/ab67616d00001e02d513f3...</td>\n",
              "      <td>2022-11-18</td>\n",
              "      <td>24</td>\n",
              "      <td>72</td>\n",
              "    </tr>\n",
              "    <tr>\n",
              "      <th>1</th>\n",
              "      <td>1</td>\n",
              "      <td>3lsdB3dY4odywNI42KV6D9</td>\n",
              "      <td>SEN2 KBRN VOL. 2</td>\n",
              "      <td>https://i.scdn.co/image/ab67616d00001e02dce7a3...</td>\n",
              "      <td>2022-11-18</td>\n",
              "      <td>24</td>\n",
              "      <td>80</td>\n",
              "    </tr>\n",
              "    <tr>\n",
              "      <th>2</th>\n",
              "      <td>2</td>\n",
              "      <td>3SxiMoJROq0kvfbQtd75xp</td>\n",
              "      <td>Down In Atlanta</td>\n",
              "      <td>https://i.scdn.co/image/ab67616d00001e029c3bd1...</td>\n",
              "      <td>2022-11-18</td>\n",
              "      <td>24</td>\n",
              "      <td>72</td>\n",
              "    </tr>\n",
              "    <tr>\n",
              "      <th>3</th>\n",
              "      <td>3</td>\n",
              "      <td>6J0q4a7WkkI6OvlZC4rLpi</td>\n",
              "      <td>CONTINGENTE</td>\n",
              "      <td>https://i.scdn.co/image/ab67616d00001e02b9ae53...</td>\n",
              "      <td>2022-11-23</td>\n",
              "      <td>19</td>\n",
              "      <td>76</td>\n",
              "    </tr>\n",
              "    <tr>\n",
              "      <th>4</th>\n",
              "      <td>4</td>\n",
              "      <td>0gr5OmB74UhoANEXwYT3gE</td>\n",
              "      <td>Dreamers [Music from the FIFA World Cup Qatar ...</td>\n",
              "      <td>https://i.scdn.co/image/ab67616d00001e02ef5718...</td>\n",
              "      <td>2022-11-20</td>\n",
              "      <td>22</td>\n",
              "      <td>81</td>\n",
              "    </tr>\n",
              "    <tr>\n",
              "      <th>5</th>\n",
              "      <td>5</td>\n",
              "      <td>0YlJpX1XiE8ghnRJCU0Dwv</td>\n",
              "      <td>Sonder</td>\n",
              "      <td>https://i.scdn.co/image/ab67616d00001e02cc887b...</td>\n",
              "      <td>2022-11-18</td>\n",
              "      <td>24</td>\n",
              "      <td>74</td>\n",
              "    </tr>\n",
              "    <tr>\n",
              "      <th>6</th>\n",
              "      <td>6</td>\n",
              "      <td>1QUr29IDxeCaCpZOqwyvHW</td>\n",
              "      <td>Duki: Bzrp Music Sessions, Vol. 50</td>\n",
              "      <td>https://i.scdn.co/image/ab67616d00001e0293c4ee...</td>\n",
              "      <td>2022-11-16</td>\n",
              "      <td>26</td>\n",
              "      <td>77</td>\n",
              "    </tr>\n",
              "    <tr>\n",
              "      <th>7</th>\n",
              "      <td>7</td>\n",
              "      <td>0kfy23QZO9KebgwxJvXzJI</td>\n",
              "      <td>IO NON HO PAURA</td>\n",
              "      <td>https://i.scdn.co/image/ab67616d00001e02cc05a9...</td>\n",
              "      <td>2022-11-18</td>\n",
              "      <td>24</td>\n",
              "      <td>75</td>\n",
              "    </tr>\n",
              "    <tr>\n",
              "      <th>8</th>\n",
              "      <td>8</td>\n",
              "      <td>202T8cUT1c3oQarCOJBy6m</td>\n",
              "      <td>Milano Demons</td>\n",
              "      <td>https://i.scdn.co/image/ab67616d00001e02c7e356...</td>\n",
              "      <td>2022-11-25</td>\n",
              "      <td>17</td>\n",
              "      <td>80</td>\n",
              "    </tr>\n",
              "    <tr>\n",
              "      <th>9</th>\n",
              "      <td>9</td>\n",
              "      <td>2SWwDDBZG7UfECbPWQ2t4h</td>\n",
              "      <td>Back To The Game</td>\n",
              "      <td>https://i.scdn.co/image/ab67616d00001e027d43a8...</td>\n",
              "      <td>2022-11-23</td>\n",
              "      <td>19</td>\n",
              "      <td>75</td>\n",
              "    </tr>\n",
              "    <tr>\n",
              "      <th>10</th>\n",
              "      <td>10</td>\n",
              "      <td>1y0Yts8U11AdgMgl4tPDII</td>\n",
              "      <td>Autobahn</td>\n",
              "      <td>https://i.scdn.co/image/ab67616d00001e02f123e0...</td>\n",
              "      <td>2022-11-18</td>\n",
              "      <td>24</td>\n",
              "      <td>75</td>\n",
              "    </tr>\n",
              "    <tr>\n",
              "      <th>11</th>\n",
              "      <td>11</td>\n",
              "      <td>08HCdXZVN72S2vpIT9DKhU</td>\n",
              "      <td>Indigo</td>\n",
              "      <td>https://i.scdn.co/image/ab67616d00001e02366619...</td>\n",
              "      <td>2022-12-02</td>\n",
              "      <td>10</td>\n",
              "      <td>85</td>\n",
              "    </tr>\n",
              "    <tr>\n",
              "      <th>12</th>\n",
              "      <td>12</td>\n",
              "      <td>4gR3h0hcpE1iJH0v5bVv78</td>\n",
              "      <td>HEROES &amp; VILLAINS</td>\n",
              "      <td>https://i.scdn.co/image/ab67616d00001e02cdce39...</td>\n",
              "      <td>2022-12-02</td>\n",
              "      <td>10</td>\n",
              "      <td>85</td>\n",
              "    </tr>\n",
              "    <tr>\n",
              "      <th>13</th>\n",
              "      <td>13</td>\n",
              "      <td>2AvuFDqTlnxvYhyVaLU6NY</td>\n",
              "      <td>SR. SANTOS</td>\n",
              "      <td>https://i.scdn.co/image/ab67616d00001e0230326b...</td>\n",
              "      <td>2022-12-01</td>\n",
              "      <td>11</td>\n",
              "      <td>78</td>\n",
              "    </tr>\n",
              "    <tr>\n",
              "      <th>14</th>\n",
              "      <td>14</td>\n",
              "      <td>6JUTj8yO1favP3Qfma0G3f</td>\n",
              "      <td>Welcome To My World</td>\n",
              "      <td>https://i.scdn.co/image/ab67616d00001e02f76b76...</td>\n",
              "      <td>2022-11-23</td>\n",
              "      <td>19</td>\n",
              "      <td>73</td>\n",
              "    </tr>\n",
              "    <tr>\n",
              "      <th>15</th>\n",
              "      <td>15</td>\n",
              "      <td>5feRs2ejrMcxuM5hcDDSBb</td>\n",
              "      <td>This Is What I Mean</td>\n",
              "      <td>https://i.scdn.co/image/ab67616d00001e02df075b...</td>\n",
              "      <td>2022-11-25</td>\n",
              "      <td>17</td>\n",
              "      <td>72</td>\n",
              "    </tr>\n",
              "    <tr>\n",
              "      <th>16</th>\n",
              "      <td>17</td>\n",
              "      <td>7wUbINCiBbmMPH50g1bg3I</td>\n",
              "      <td>Manual de Como Amar Errado</td>\n",
              "      <td>https://i.scdn.co/image/ab67616d00001e0289b79f...</td>\n",
              "      <td>2022-11-29</td>\n",
              "      <td>13</td>\n",
              "      <td>73</td>\n",
              "    </tr>\n",
              "    <tr>\n",
              "      <th>17</th>\n",
              "      <td>20</td>\n",
              "      <td>31L7J7AO993tSBxAunoeoa</td>\n",
              "      <td>SIXDO</td>\n",
              "      <td>https://i.scdn.co/image/ab67616d00001e027cc7b0...</td>\n",
              "      <td>2022-12-02</td>\n",
              "      <td>10</td>\n",
              "      <td>74</td>\n",
              "    </tr>\n",
              "    <tr>\n",
              "      <th>18</th>\n",
              "      <td>22</td>\n",
              "      <td>6LOhj1aK7vkGHJXtKU16PN</td>\n",
              "      <td>La Jumpa</td>\n",
              "      <td>https://i.scdn.co/image/ab67616d00001e021e0950...</td>\n",
              "      <td>2022-11-30</td>\n",
              "      <td>12</td>\n",
              "      <td>76</td>\n",
              "    </tr>\n",
              "    <tr>\n",
              "      <th>19</th>\n",
              "      <td>23</td>\n",
              "      <td>6DJslQtfD7mGFGZpfiyrVf</td>\n",
              "      <td>LLNM2</td>\n",
              "      <td>https://i.scdn.co/image/ab67616d00001e02a726ed...</td>\n",
              "      <td>2022-12-09</td>\n",
              "      <td>3</td>\n",
              "      <td>74</td>\n",
              "    </tr>\n",
              "    <tr>\n",
              "      <th>20</th>\n",
              "      <td>27</td>\n",
              "      <td>3pQgpHGzZu1MaylCk7B99D</td>\n",
              "      <td>Liens du 100</td>\n",
              "      <td>https://i.scdn.co/image/ab67616d00001e029b7921...</td>\n",
              "      <td>2022-12-01</td>\n",
              "      <td>11</td>\n",
              "      <td>72</td>\n",
              "    </tr>\n",
              "    <tr>\n",
              "      <th>21</th>\n",
              "      <td>28</td>\n",
              "      <td>0iyHGIt1eRyFmH9ZLORpdY</td>\n",
              "      <td>Légende Vivante</td>\n",
              "      <td>https://i.scdn.co/image/ab67616d00001e027dfb2c...</td>\n",
              "      <td>2022-12-02</td>\n",
              "      <td>10</td>\n",
              "      <td>71</td>\n",
              "    </tr>\n",
              "    <tr>\n",
              "      <th>22</th>\n",
              "      <td>29</td>\n",
              "      <td>5aQFjsRw6rieK5oDNgGRyB</td>\n",
              "      <td>HEROES &amp; VILLAINS</td>\n",
              "      <td>https://i.scdn.co/image/ab67616d00001e02c91ab2...</td>\n",
              "      <td>2022-12-02</td>\n",
              "      <td>10</td>\n",
              "      <td>77</td>\n",
              "    </tr>\n",
              "    <tr>\n",
              "      <th>23</th>\n",
              "      <td>32</td>\n",
              "      <td>7txGsnDSqVMoRl6RQ9XyZP</td>\n",
              "      <td>HEROES &amp; VILLAINS</td>\n",
              "      <td>https://i.scdn.co/image/ab67616d00001e0213e54d...</td>\n",
              "      <td>2022-12-02</td>\n",
              "      <td>10</td>\n",
              "      <td>87</td>\n",
              "    </tr>\n",
              "  </tbody>\n",
              "</table>\n",
              "</div>\n",
              "      <button class=\"colab-df-convert\" onclick=\"convertToInteractive('df-1d591989-4830-4482-97e7-af250221aeb4')\"\n",
              "              title=\"Convert this dataframe to an interactive table.\"\n",
              "              style=\"display:none;\">\n",
              "        \n",
              "  <svg xmlns=\"http://www.w3.org/2000/svg\" height=\"24px\"viewBox=\"0 0 24 24\"\n",
              "       width=\"24px\">\n",
              "    <path d=\"M0 0h24v24H0V0z\" fill=\"none\"/>\n",
              "    <path d=\"M18.56 5.44l.94 2.06.94-2.06 2.06-.94-2.06-.94-.94-2.06-.94 2.06-2.06.94zm-11 1L8.5 8.5l.94-2.06 2.06-.94-2.06-.94L8.5 2.5l-.94 2.06-2.06.94zm10 10l.94 2.06.94-2.06 2.06-.94-2.06-.94-.94-2.06-.94 2.06-2.06.94z\"/><path d=\"M17.41 7.96l-1.37-1.37c-.4-.4-.92-.59-1.43-.59-.52 0-1.04.2-1.43.59L10.3 9.45l-7.72 7.72c-.78.78-.78 2.05 0 2.83L4 21.41c.39.39.9.59 1.41.59.51 0 1.02-.2 1.41-.59l7.78-7.78 2.81-2.81c.8-.78.8-2.07 0-2.86zM5.41 20L4 18.59l7.72-7.72 1.47 1.35L5.41 20z\"/>\n",
              "  </svg>\n",
              "      </button>\n",
              "      \n",
              "  <style>\n",
              "    .colab-df-container {\n",
              "      display:flex;\n",
              "      flex-wrap:wrap;\n",
              "      gap: 12px;\n",
              "    }\n",
              "\n",
              "    .colab-df-convert {\n",
              "      background-color: #E8F0FE;\n",
              "      border: none;\n",
              "      border-radius: 50%;\n",
              "      cursor: pointer;\n",
              "      display: none;\n",
              "      fill: #1967D2;\n",
              "      height: 32px;\n",
              "      padding: 0 0 0 0;\n",
              "      width: 32px;\n",
              "    }\n",
              "\n",
              "    .colab-df-convert:hover {\n",
              "      background-color: #E2EBFA;\n",
              "      box-shadow: 0px 1px 2px rgba(60, 64, 67, 0.3), 0px 1px 3px 1px rgba(60, 64, 67, 0.15);\n",
              "      fill: #174EA6;\n",
              "    }\n",
              "\n",
              "    [theme=dark] .colab-df-convert {\n",
              "      background-color: #3B4455;\n",
              "      fill: #D2E3FC;\n",
              "    }\n",
              "\n",
              "    [theme=dark] .colab-df-convert:hover {\n",
              "      background-color: #434B5C;\n",
              "      box-shadow: 0px 1px 3px 1px rgba(0, 0, 0, 0.15);\n",
              "      filter: drop-shadow(0px 1px 2px rgba(0, 0, 0, 0.3));\n",
              "      fill: #FFFFFF;\n",
              "    }\n",
              "  </style>\n",
              "\n",
              "      <script>\n",
              "        const buttonEl =\n",
              "          document.querySelector('#df-1d591989-4830-4482-97e7-af250221aeb4 button.colab-df-convert');\n",
              "        buttonEl.style.display =\n",
              "          google.colab.kernel.accessAllowed ? 'block' : 'none';\n",
              "\n",
              "        async function convertToInteractive(key) {\n",
              "          const element = document.querySelector('#df-1d591989-4830-4482-97e7-af250221aeb4');\n",
              "          const dataTable =\n",
              "            await google.colab.kernel.invokeFunction('convertToInteractive',\n",
              "                                                     [key], {});\n",
              "          if (!dataTable) return;\n",
              "\n",
              "          const docLinkHtml = 'Like what you see? Visit the ' +\n",
              "            '<a target=\"_blank\" href=https://colab.research.google.com/notebooks/data_table.ipynb>data table notebook</a>'\n",
              "            + ' to learn more about interactive tables.';\n",
              "          element.innerHTML = '';\n",
              "          dataTable['output_type'] = 'display_data';\n",
              "          await google.colab.output.renderOutput(dataTable, element);\n",
              "          const docLink = document.createElement('div');\n",
              "          docLink.innerHTML = docLinkHtml;\n",
              "          element.appendChild(docLink);\n",
              "        }\n",
              "      </script>\n",
              "    </div>\n",
              "  </div>\n",
              "  "
            ]
          },
          "metadata": {},
          "execution_count": 17
        }
      ]
    },
    {
      "cell_type": "code",
      "source": [
        "data = []\n",
        "\n",
        "unique_albums = df.id.unique()\n",
        "for album_id in unique_albums:\n",
        "  data.append(GetAlbumResults(album_id))\n",
        "\n",
        "for market in all_market_codes['markets']:\n",
        "  try:\n",
        "    d = GetNewResults(market)\n",
        "    data.extend(d)\n",
        "  except:\n",
        "    print(\"No New Results from the {}\".format(market))\n",
        "\n",
        "\n",
        "df = pd.DataFrame(data,columns=['id','name','image','release_date','days_since_release','popularity'])\n",
        "df = df.drop_duplicates(subset=['id','days_since_release'])"
      ],
      "metadata": {
        "id": "-KQY6orfDFD-"
      },
      "execution_count": 19,
      "outputs": []
    },
    {
      "cell_type": "code",
      "source": [
        "df.to_csv('data.csv')\n",
        "!cp data.csv \"drive/My Drive/spotipy/\""
      ],
      "metadata": {
        "id": "mT34Wpcz9P-X"
      },
      "execution_count": 20,
      "outputs": []
    },
    {
      "cell_type": "code",
      "source": [
        "# 1. Authorizing google colab\n",
        "from google.colab import auth\n",
        "auth.authenticate_user()\n",
        "\n",
        "# 2. credentials for google sheets\n",
        "import gspread\n",
        "from google.auth import default\n",
        "creds, _ = default()\n",
        "\n",
        "# 3. authotizing the connection\n",
        "gc = gspread.authorize(creds)"
      ],
      "metadata": {
        "id": "nWrJuwLgucbs"
      },
      "execution_count": 26,
      "outputs": []
    },
    {
      "cell_type": "code",
      "source": [
        "sh = gc.open('spotipy')\n",
        "today = str(datetime.date.today())\n",
        "worksheet = sh.add_worksheet(title=today,rows=100,cols=10)\n",
        "# worksheet.title = today\n",
        "worksheet.update([df.columns.values.tolist()] + df.values.tolist())"
      ],
      "metadata": {
        "id": "2lBjS1vgu3GC"
      },
      "execution_count": null,
      "outputs": []
    },
    {
      "cell_type": "markdown",
      "source": [
        "# Future\n",
        "## Analysis of collected data, need atleast 3 months of data\n",
        "### Will CRON job the code above privately"
      ],
      "metadata": {
        "id": "7THI9NVgfqTc"
      }
    },
    {
      "cell_type": "code",
      "source": [
        "## Retreive File(s) from Google drive"
      ],
      "metadata": {
        "id": "t6rBVaPaM8Ui"
      },
      "execution_count": 21,
      "outputs": []
    },
    {
      "cell_type": "code",
      "source": [
        "# !cp \"drive/My Drive/spotipy/<file-name>.csv\" data.csv "
      ],
      "metadata": {
        "id": "BPwsU2-UM_D4"
      },
      "execution_count": 22,
      "outputs": []
    },
    {
      "cell_type": "code",
      "source": [
        "# df = pd.read_csv('<file-name>.csv')"
      ],
      "metadata": {
        "id": "fkBlxL_4NDQv"
      },
      "execution_count": 23,
      "outputs": []
    },
    {
      "cell_type": "markdown",
      "source": [
        "# ScratchPad"
      ],
      "metadata": {
        "id": "fHcOkSCOhQgX"
      }
    },
    {
      "cell_type": "code",
      "source": [
        "GetNewResults('IN')"
      ],
      "metadata": {
        "colab": {
          "base_uri": "https://localhost:8080/"
        },
        "id": "w4C3Otq9ibMi",
        "outputId": "31c18429-6139-41e7-b2df-22d723804a65"
      },
      "execution_count": 24,
      "outputs": [
        {
          "output_type": "execute_result",
          "data": {
            "text/plain": [
              "[['07w0rG5TETcyihsEIZR3qG',\n",
              "  'SOS',\n",
              "  'https://i.scdn.co/image/ab67616d00001e0270dbc9f47669d120ad874ec1',\n",
              "  '2022-12-09',\n",
              "  14,\n",
              "  97]]"
            ]
          },
          "metadata": {},
          "execution_count": 24
        }
      ]
    },
    {
      "cell_type": "code",
      "source": [
        "GetAlbumResults('0gr5OmB74UhoANEXwYT3gE')"
      ],
      "metadata": {
        "colab": {
          "base_uri": "https://localhost:8080/"
        },
        "id": "fizYO0sIhTnU",
        "outputId": "3d42090d-bbb1-4b5c-9973-5be8d50f4405"
      },
      "execution_count": 25,
      "outputs": [
        {
          "output_type": "execute_result",
          "data": {
            "text/plain": [
              "['0gr5OmB74UhoANEXwYT3gE',\n",
              " 'Dreamers [Music from the FIFA World Cup Qatar 2022 Official Soundtrack]',\n",
              " 'https://i.scdn.co/image/ab67616d00001e02ef57183066d6cac0cabb85c6',\n",
              " '2022-11-20',\n",
              " 33,\n",
              " 81]"
            ]
          },
          "metadata": {},
          "execution_count": 25
        }
      ]
    }
  ]
}